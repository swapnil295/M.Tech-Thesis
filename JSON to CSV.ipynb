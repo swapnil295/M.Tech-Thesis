{
 "cells": [
  {
   "cell_type": "code",
   "execution_count": 1,
   "metadata": {},
   "outputs": [],
   "source": [
    "import json\n",
    "import unicodecsv as csv    # unicodecsv ensures that emojis are preserved\n",
    "\n",
    "def tweets_json_to_csv(file_list, csv_output_file):\n",
    "    '''\n",
    "    INPUT: list of JSON files\n",
    "    OUTPUT: single CSV file\n",
    "    \n",
    "    Takes a list of JSON files containing tweets and associated metadata and reads each file\n",
    "    line by line, parsing the revelent fields, and writing it to a CSV file.\n",
    "    '''\n",
    "\n",
    "    count = 0\n",
    "    f = csv.writer(open(csv_output_file, \"wb+\"))\n",
    "    \n",
    "    # Column names\n",
    "    f.writerow(['tweet',                    # relabelled: the API calls this 'text'\n",
    "                'country_code', \n",
    "                'geo_location',             # relabelled: the API calls this 'full_name'\n",
    "                'bounding_box', \n",
    "                'screen_name',\n",
    "                'favourites_count', \n",
    "                'followers_count', \n",
    "                'statuses_count', \n",
    "                'friends_count',\n",
    "                'listed_count', \n",
    "                'user_described_location',  # relabelled: the API calls this 'location'\n",
    "                'created_at', \n",
    "                'utc_offset'])\n",
    "\n",
    "    for file_ in file_list:\n",
    "        with open(file_, \"r\", encoding=\"utf8\") as r:\n",
    "            for line in r:\n",
    "                try:\n",
    "                    tweet = json.loads(line)\n",
    "                except:\n",
    "                    continue\n",
    "                if tweet and tweet['place'] != None:\n",
    "                    f.writerow([tweet['text'],                                    \n",
    "                                tweet['place']['country_code'],                   \n",
    "                                tweet['place']['full_name'],                      \n",
    "                                tweet['place']['bounding_box']['coordinates'],    \n",
    "                                tweet['user']['screen_name'],                    \n",
    "                                tweet['user']['favourites_count'],                \n",
    "                                tweet['user']['followers_count'],                 \n",
    "                                tweet['user']['statuses_count'],                  \n",
    "                                tweet['user']['friends_count'],                 \n",
    "                                tweet['user']['listed_count'],          \n",
    "                                tweet['user']['location'],                      \n",
    "                                tweet['created_at'],                             \n",
    "                                tweet['user']['utc_offset']])                   \n",
    "                    count += 1\n",
    "                    \n",
    "                  \n",
    "                        \n",
    "if __name__ == \"__main__\":\n",
    "    tweets_json_to_csv(['delhi_test1.json'], 'delhi_test1.csv')\n",
    "   "
   ]
  },
  {
   "cell_type": "code",
   "execution_count": null,
   "metadata": {},
   "outputs": [],
   "source": [
    "\n",
    "    "
   ]
  },
  {
   "cell_type": "code",
   "execution_count": null,
   "metadata": {},
   "outputs": [],
   "source": []
  }
 ],
 "metadata": {
  "kernelspec": {
   "display_name": "Python 3",
   "language": "python",
   "name": "python3"
  },
  "language_info": {
   "codemirror_mode": {
    "name": "ipython",
    "version": 3
   },
   "file_extension": ".py",
   "mimetype": "text/x-python",
   "name": "python",
   "nbconvert_exporter": "python",
   "pygments_lexer": "ipython3",
   "version": "3.7.4"
  }
 },
 "nbformat": 4,
 "nbformat_minor": 2
}
