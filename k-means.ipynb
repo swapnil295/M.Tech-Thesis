{
 "cells": [
  {
   "cell_type": "code",
   "execution_count": null,
   "metadata": {},
   "outputs": [],
   "source": [
    "\n"
   ]
  },
  {
   "cell_type": "code",
   "execution_count": null,
   "metadata": {},
   "outputs": [],
   "source": []
  },
  {
   "cell_type": "code",
   "execution_count": null,
   "metadata": {},
   "outputs": [],
   "source": []
  },
  {
   "cell_type": "code",
   "execution_count": 24,
   "metadata": {},
   "outputs": [],
   "source": [
    "    import pandas as pd\n",
    "    import datetime\n",
    "    from shapely.geometry import Point, Polygon\n",
    "    import datetime\n",
    "    from shapely import wkt\n",
    "    import geopandas as gpd\n",
    "    import pandas as pd\n",
    "    import numpy as np\n",
    "    import matplotlib.pyplot as plt\n",
    "    from sklearn.cluster import KMeans\n",
    "    import seaborn as sns; sns.set()\n",
    "    import csv"
   ]
  },
  {
   "cell_type": "code",
   "execution_count": null,
   "metadata": {},
   "outputs": [],
   "source": [
    "\n",
    "\n",
    "            "
   ]
  },
  {
   "cell_type": "code",
   "execution_count": 25,
   "metadata": {},
   "outputs": [],
   "source": [
    "    df = pd.read_csv(r'combined_tourists.csv', encoding='utf-8')\n",
    "    df[df['coordinates'].notna()]\n",
    "    df['coordinates'] = df.coordinates.str.replace('type,?' , '')\n",
    "    df['coordinates'] = df.coordinates.str.replace('Point,?' , '')\n",
    "    df['coordinates'] = df.coordinates.str.replace('coordinates,?' , '')\n",
    "    df['coordinates'] = df.coordinates.str.replace('{,?' , '')\n",
    "    df['coordinates'] = df.coordinates.str.replace(':,?' , '')\n",
    "    df['coordinates'] = df.coordinates.str.replace('\\],?' , '')\n",
    "    df['coordinates'] = df.coordinates.str.replace(',?' , '')\n",
    "    df['coordinates'] = df.coordinates.str.replace('},?' , '')\n",
    "    df['coordinates'] = df.coordinates.str.replace(\"'',?\" , \"\")\n",
    "    df['coordinates'] = df.coordinates.str.replace('\\[,?' , '')\n",
    "    df[['a','b','c','LON','LAT']] = df.coordinates.str.split(\" \",expand=True,)\n",
    "    df.drop(['a', 'b','c'], axis = 1)\n",
    "    df.dropna(subset = [\"LAT\"], inplace=True)\n",
    "    df['LON'] = pd.to_numeric(df['LON'],errors='coerce')\n",
    "    df['LAT'] = pd.to_numeric(df['LAT'],errors='coerce')\n",
    "    df.dropna(subset = [\"LAT\"], inplace=True)\n",
    "    "
   ]
  },
  {
   "cell_type": "code",
   "execution_count": 26,
   "metadata": {},
   "outputs": [],
   "source": [
    "    from shapely.geometry import Point, Polygon\n",
    "    import datetime\n",
    "    from shapely import wkt\n",
    "    import geopandas as gpd\n",
    "    from shapely.geometry import Point, Polygon\n",
    "    def check(p):\n",
    "        from shapely.geometry import Point, Polygon\n",
    "        # Create a Polygon\n",
    "        coords = coords = [(77.15, 28.45), (77.30, 28.45), (77.15, 29), (77.30, 29)]\n",
    "        poly = Polygon(coords)\n",
    "        y = p.within(poly)\n",
    "        return(y)\n",
    "    gdf = gpd.GeoDataFrame(df, geometry=gpd.points_from_xy(df.LON, df.LAT))\n",
    "    df['val']=df['geometry'].apply(check)\n",
    "\n",
    "    \n",
    "    \n",
    "\n"
   ]
  },
  {
   "cell_type": "code",
   "execution_count": 27,
   "metadata": {},
   "outputs": [
    {
     "data": {
      "text/html": [
       "<div>\n",
       "<style scoped>\n",
       "    .dataframe tbody tr th:only-of-type {\n",
       "        vertical-align: middle;\n",
       "    }\n",
       "\n",
       "    .dataframe tbody tr th {\n",
       "        vertical-align: top;\n",
       "    }\n",
       "\n",
       "    .dataframe thead th {\n",
       "        text-align: right;\n",
       "    }\n",
       "</style>\n",
       "<table border=\"1\" class=\"dataframe\">\n",
       "  <thead>\n",
       "    <tr style=\"text-align: right;\">\n",
       "      <th></th>\n",
       "      <th>id</th>\n",
       "      <th>created_at</th>\n",
       "      <th>text</th>\n",
       "      <th>coordinates</th>\n",
       "      <th>user_described_location</th>\n",
       "      <th>a</th>\n",
       "      <th>b</th>\n",
       "      <th>c</th>\n",
       "      <th>LON</th>\n",
       "      <th>LAT</th>\n",
       "      <th>geometry</th>\n",
       "      <th>val</th>\n",
       "    </tr>\n",
       "  </thead>\n",
       "  <tbody>\n",
       "    <tr>\n",
       "      <th>3032</th>\n",
       "      <td>1314494825962463232</td>\n",
       "      <td>2020-10-09 09:16:03</td>\n",
       "      <td>Just posted a video @ Lal Qila (Red Fort) Chan...</td>\n",
       "      <td>77.23703704 28.65638698</td>\n",
       "      <td>NaN</td>\n",
       "      <td></td>\n",
       "      <td></td>\n",
       "      <td></td>\n",
       "      <td>77.237037</td>\n",
       "      <td>28.656387</td>\n",
       "      <td>POINT (77.23704 28.65639)</td>\n",
       "      <td>True</td>\n",
       "    </tr>\n",
       "    <tr>\n",
       "      <th>3033</th>\n",
       "      <td>1314425757985198081</td>\n",
       "      <td>2020-10-09 04:41:36</td>\n",
       "      <td>Just posted a video @ Red Fort https://t.co/KR...</td>\n",
       "      <td>77.24079609 28.65607021</td>\n",
       "      <td>NaN</td>\n",
       "      <td></td>\n",
       "      <td></td>\n",
       "      <td></td>\n",
       "      <td>77.240796</td>\n",
       "      <td>28.656070</td>\n",
       "      <td>POINT (77.24080 28.65607)</td>\n",
       "      <td>True</td>\n",
       "    </tr>\n",
       "    <tr>\n",
       "      <th>3047</th>\n",
       "      <td>1314417502600990722</td>\n",
       "      <td>2020-10-09 04:08:47</td>\n",
       "      <td>Just posted a photo @ Lal Qila (Red Fort) Chan...</td>\n",
       "      <td>77.23703704 28.65638698</td>\n",
       "      <td>NaN</td>\n",
       "      <td></td>\n",
       "      <td></td>\n",
       "      <td></td>\n",
       "      <td>77.237037</td>\n",
       "      <td>28.656387</td>\n",
       "      <td>POINT (77.23704 28.65639)</td>\n",
       "      <td>True</td>\n",
       "    </tr>\n",
       "    <tr>\n",
       "      <th>3048</th>\n",
       "      <td>1314417307297472514</td>\n",
       "      <td>2020-10-09 04:08:01</td>\n",
       "      <td>Just posted a photo @ Lal Qila (Red Fort) Chan...</td>\n",
       "      <td>77.23703704 28.65638698</td>\n",
       "      <td>NaN</td>\n",
       "      <td></td>\n",
       "      <td></td>\n",
       "      <td></td>\n",
       "      <td>77.237037</td>\n",
       "      <td>28.656387</td>\n",
       "      <td>POINT (77.23704 28.65639)</td>\n",
       "      <td>True</td>\n",
       "    </tr>\n",
       "    <tr>\n",
       "      <th>3049</th>\n",
       "      <td>1314417160547184640</td>\n",
       "      <td>2020-10-09 04:07:26</td>\n",
       "      <td>Just posted a photo @ Lal Qila (Red Fort) Chan...</td>\n",
       "      <td>77.23703704 28.65638698</td>\n",
       "      <td>NaN</td>\n",
       "      <td></td>\n",
       "      <td></td>\n",
       "      <td></td>\n",
       "      <td>77.237037</td>\n",
       "      <td>28.656387</td>\n",
       "      <td>POINT (77.23704 28.65639)</td>\n",
       "      <td>True</td>\n",
       "    </tr>\n",
       "    <tr>\n",
       "      <th>...</th>\n",
       "      <td>...</td>\n",
       "      <td>...</td>\n",
       "      <td>...</td>\n",
       "      <td>...</td>\n",
       "      <td>...</td>\n",
       "      <td>...</td>\n",
       "      <td>...</td>\n",
       "      <td>...</td>\n",
       "      <td>...</td>\n",
       "      <td>...</td>\n",
       "      <td>...</td>\n",
       "      <td>...</td>\n",
       "    </tr>\n",
       "    <tr>\n",
       "      <th>704478</th>\n",
       "      <td>1207489681161674752</td>\n",
       "      <td>2019-12-19 02:35:48</td>\n",
       "      <td>#liveselfie #morning\\r\\n#toocold @ RK Puram, S...</td>\n",
       "      <td>77.18809 28.56158</td>\n",
       "      <td>NaN</td>\n",
       "      <td></td>\n",
       "      <td></td>\n",
       "      <td></td>\n",
       "      <td>77.188090</td>\n",
       "      <td>28.561580</td>\n",
       "      <td>POINT (77.18809 28.56158)</td>\n",
       "      <td>True</td>\n",
       "    </tr>\n",
       "    <tr>\n",
       "      <th>704496</th>\n",
       "      <td>1205815385590767617</td>\n",
       "      <td>2019-12-14 11:42:45</td>\n",
       "      <td>#shanimandir @ Sports Club Khaspur https://t.c...</td>\n",
       "      <td>77.1840257 28.5649359</td>\n",
       "      <td>NaN</td>\n",
       "      <td></td>\n",
       "      <td></td>\n",
       "      <td></td>\n",
       "      <td>77.184026</td>\n",
       "      <td>28.564936</td>\n",
       "      <td>POINT (77.18403 28.56494)</td>\n",
       "      <td>True</td>\n",
       "    </tr>\n",
       "    <tr>\n",
       "      <th>704612</th>\n",
       "      <td>1193781934637252608</td>\n",
       "      <td>2019-11-11 06:46:07</td>\n",
       "      <td>#liveselfie @ Cro Itbp https://t.co/9RODp4IMHt</td>\n",
       "      <td>77.18439333 28.56540475</td>\n",
       "      <td>NaN</td>\n",
       "      <td></td>\n",
       "      <td></td>\n",
       "      <td></td>\n",
       "      <td>77.184393</td>\n",
       "      <td>28.565405</td>\n",
       "      <td>POINT (77.18439 28.56540)</td>\n",
       "      <td>True</td>\n",
       "    </tr>\n",
       "    <tr>\n",
       "      <th>704670</th>\n",
       "      <td>1188655260383862785</td>\n",
       "      <td>2019-10-28 03:14:32</td>\n",
       "      <td>#liveselfie @ Cro Itbp https://t.co/yKdeyHtsb6</td>\n",
       "      <td>77.18439333 28.56540475</td>\n",
       "      <td>NaN</td>\n",
       "      <td></td>\n",
       "      <td></td>\n",
       "      <td></td>\n",
       "      <td>77.184393</td>\n",
       "      <td>28.565405</td>\n",
       "      <td>POINT (77.18439 28.56540)</td>\n",
       "      <td>True</td>\n",
       "    </tr>\n",
       "    <tr>\n",
       "      <th>704817</th>\n",
       "      <td>1172328698214699009</td>\n",
       "      <td>2019-09-13 01:58:37</td>\n",
       "      <td>#1yearanniversary \\r\\nFamily Selfie after Rank...</td>\n",
       "      <td>77.18439333 28.56540475</td>\n",
       "      <td>NaN</td>\n",
       "      <td></td>\n",
       "      <td></td>\n",
       "      <td></td>\n",
       "      <td>77.184393</td>\n",
       "      <td>28.565405</td>\n",
       "      <td>POINT (77.18439 28.56540)</td>\n",
       "      <td>True</td>\n",
       "    </tr>\n",
       "  </tbody>\n",
       "</table>\n",
       "<p>29495 rows × 12 columns</p>\n",
       "</div>"
      ],
      "text/plain": [
       "                         id           created_at  \\\n",
       "3032    1314494825962463232  2020-10-09 09:16:03   \n",
       "3033    1314425757985198081  2020-10-09 04:41:36   \n",
       "3047    1314417502600990722  2020-10-09 04:08:47   \n",
       "3048    1314417307297472514  2020-10-09 04:08:01   \n",
       "3049    1314417160547184640  2020-10-09 04:07:26   \n",
       "...                     ...                  ...   \n",
       "704478  1207489681161674752  2019-12-19 02:35:48   \n",
       "704496  1205815385590767617  2019-12-14 11:42:45   \n",
       "704612  1193781934637252608  2019-11-11 06:46:07   \n",
       "704670  1188655260383862785  2019-10-28 03:14:32   \n",
       "704817  1172328698214699009  2019-09-13 01:58:37   \n",
       "\n",
       "                                                     text  \\\n",
       "3032    Just posted a video @ Lal Qila (Red Fort) Chan...   \n",
       "3033    Just posted a video @ Red Fort https://t.co/KR...   \n",
       "3047    Just posted a photo @ Lal Qila (Red Fort) Chan...   \n",
       "3048    Just posted a photo @ Lal Qila (Red Fort) Chan...   \n",
       "3049    Just posted a photo @ Lal Qila (Red Fort) Chan...   \n",
       "...                                                   ...   \n",
       "704478  #liveselfie #morning\\r\\n#toocold @ RK Puram, S...   \n",
       "704496  #shanimandir @ Sports Club Khaspur https://t.c...   \n",
       "704612     #liveselfie @ Cro Itbp https://t.co/9RODp4IMHt   \n",
       "704670     #liveselfie @ Cro Itbp https://t.co/yKdeyHtsb6   \n",
       "704817  #1yearanniversary \\r\\nFamily Selfie after Rank...   \n",
       "\n",
       "                       coordinates  user_described_location a  b  c   \\\n",
       "3032       77.23703704 28.65638698                      NaN            \n",
       "3033       77.24079609 28.65607021                      NaN            \n",
       "3047       77.23703704 28.65638698                      NaN            \n",
       "3048       77.23703704 28.65638698                      NaN            \n",
       "3049       77.23703704 28.65638698                      NaN            \n",
       "...                            ...                      ... .. .. ..   \n",
       "704478           77.18809 28.56158                      NaN            \n",
       "704496       77.1840257 28.5649359                      NaN            \n",
       "704612     77.18439333 28.56540475                      NaN            \n",
       "704670     77.18439333 28.56540475                      NaN            \n",
       "704817     77.18439333 28.56540475                      NaN            \n",
       "\n",
       "              LON        LAT                   geometry   val  \n",
       "3032    77.237037  28.656387  POINT (77.23704 28.65639)  True  \n",
       "3033    77.240796  28.656070  POINT (77.24080 28.65607)  True  \n",
       "3047    77.237037  28.656387  POINT (77.23704 28.65639)  True  \n",
       "3048    77.237037  28.656387  POINT (77.23704 28.65639)  True  \n",
       "3049    77.237037  28.656387  POINT (77.23704 28.65639)  True  \n",
       "...           ...        ...                        ...   ...  \n",
       "704478  77.188090  28.561580  POINT (77.18809 28.56158)  True  \n",
       "704496  77.184026  28.564936  POINT (77.18403 28.56494)  True  \n",
       "704612  77.184393  28.565405  POINT (77.18439 28.56540)  True  \n",
       "704670  77.184393  28.565405  POINT (77.18439 28.56540)  True  \n",
       "704817  77.184393  28.565405  POINT (77.18439 28.56540)  True  \n",
       "\n",
       "[29495 rows x 12 columns]"
      ]
     },
     "execution_count": 27,
     "metadata": {},
     "output_type": "execute_result"
    }
   ],
   "source": [
    "df.drop(df[df['val'] == False].index, inplace=True)\n",
    "df"
   ]
  },
  {
   "cell_type": "code",
   "execution_count": 28,
   "metadata": {},
   "outputs": [
    {
     "data": {
      "text/html": [
       "<div>\n",
       "<style scoped>\n",
       "    .dataframe tbody tr th:only-of-type {\n",
       "        vertical-align: middle;\n",
       "    }\n",
       "\n",
       "    .dataframe tbody tr th {\n",
       "        vertical-align: top;\n",
       "    }\n",
       "\n",
       "    .dataframe thead th {\n",
       "        text-align: right;\n",
       "    }\n",
       "</style>\n",
       "<table border=\"1\" class=\"dataframe\">\n",
       "  <thead>\n",
       "    <tr style=\"text-align: right;\">\n",
       "      <th></th>\n",
       "      <th>id</th>\n",
       "      <th>LAT</th>\n",
       "      <th>LON</th>\n",
       "    </tr>\n",
       "  </thead>\n",
       "  <tbody>\n",
       "    <tr>\n",
       "      <th>3032</th>\n",
       "      <td>1314494825962463232</td>\n",
       "      <td>28.656387</td>\n",
       "      <td>77.237037</td>\n",
       "    </tr>\n",
       "    <tr>\n",
       "      <th>3033</th>\n",
       "      <td>1314425757985198081</td>\n",
       "      <td>28.656070</td>\n",
       "      <td>77.240796</td>\n",
       "    </tr>\n",
       "    <tr>\n",
       "      <th>3047</th>\n",
       "      <td>1314417502600990722</td>\n",
       "      <td>28.656387</td>\n",
       "      <td>77.237037</td>\n",
       "    </tr>\n",
       "    <tr>\n",
       "      <th>3048</th>\n",
       "      <td>1314417307297472514</td>\n",
       "      <td>28.656387</td>\n",
       "      <td>77.237037</td>\n",
       "    </tr>\n",
       "    <tr>\n",
       "      <th>3049</th>\n",
       "      <td>1314417160547184640</td>\n",
       "      <td>28.656387</td>\n",
       "      <td>77.237037</td>\n",
       "    </tr>\n",
       "    <tr>\n",
       "      <th>3050</th>\n",
       "      <td>1314417059451801603</td>\n",
       "      <td>28.656387</td>\n",
       "      <td>77.237037</td>\n",
       "    </tr>\n",
       "    <tr>\n",
       "      <th>3051</th>\n",
       "      <td>1314416972147417088</td>\n",
       "      <td>28.656387</td>\n",
       "      <td>77.237037</td>\n",
       "    </tr>\n",
       "    <tr>\n",
       "      <th>3052</th>\n",
       "      <td>1314416796817141760</td>\n",
       "      <td>28.656387</td>\n",
       "      <td>77.237037</td>\n",
       "    </tr>\n",
       "    <tr>\n",
       "      <th>3053</th>\n",
       "      <td>1314416706710888453</td>\n",
       "      <td>28.656387</td>\n",
       "      <td>77.237037</td>\n",
       "    </tr>\n",
       "    <tr>\n",
       "      <th>3054</th>\n",
       "      <td>1314416634233270281</td>\n",
       "      <td>28.656387</td>\n",
       "      <td>77.237037</td>\n",
       "    </tr>\n",
       "  </tbody>\n",
       "</table>\n",
       "</div>"
      ],
      "text/plain": [
       "                       id        LAT        LON\n",
       "3032  1314494825962463232  28.656387  77.237037\n",
       "3033  1314425757985198081  28.656070  77.240796\n",
       "3047  1314417502600990722  28.656387  77.237037\n",
       "3048  1314417307297472514  28.656387  77.237037\n",
       "3049  1314417160547184640  28.656387  77.237037\n",
       "3050  1314417059451801603  28.656387  77.237037\n",
       "3051  1314416972147417088  28.656387  77.237037\n",
       "3052  1314416796817141760  28.656387  77.237037\n",
       "3053  1314416706710888453  28.656387  77.237037\n",
       "3054  1314416634233270281  28.656387  77.237037"
      ]
     },
     "execution_count": 28,
     "metadata": {},
     "output_type": "execute_result"
    }
   ],
   "source": [
    "# Variable with the Longitude and Latitude\n",
    "X=df.loc[:,['id','LAT','LON']]\n",
    "X.head(10)"
   ]
  },
  {
   "cell_type": "code",
   "execution_count": 29,
   "metadata": {},
   "outputs": [
    {
     "data": {
      "text/plain": [
       "array([[1.31449483e+18, 2.86563870e+01, 7.72370370e+01],\n",
       "       [1.31442576e+18, 2.86560702e+01, 7.72407961e+01],\n",
       "       [1.31441750e+18, 2.86563870e+01, 7.72370370e+01],\n",
       "       ...,\n",
       "       [1.19378193e+18, 2.85654047e+01, 7.71843933e+01],\n",
       "       [1.18865526e+18, 2.85654047e+01, 7.71843933e+01],\n",
       "       [1.17232870e+18, 2.85654047e+01, 7.71843933e+01]])"
      ]
     },
     "execution_count": 29,
     "metadata": {},
     "output_type": "execute_result"
    }
   ],
   "source": [
    "X.to_numpy()"
   ]
  },
  {
   "cell_type": "code",
   "execution_count": 30,
   "metadata": {},
   "outputs": [],
   "source": [
    "from kneed import KneeLocator\n",
    "\n",
    "\n",
    "from sklearn.cluster import KMeans, DBSCAN, MeanShift\n",
    "from sklearn.metrics import silhouette_score\n",
    "from sklearn.metrics import adjusted_rand_score\n",
    "\n",
    "\n",
    "\n",
    "\n",
    "import pandas as pd # working with data\n",
    "import numpy as np # working with arrays\n",
    "import matplotlib.pyplot as plt # visualization\n",
    "import seaborn as sb # visualization\n",
    "from mpl_toolkits.mplot3d import Axes3D # 3d plot\n",
    "from termcolor import colored as cl # text customization\n",
    "\n",
    "from sklearn.preprocessing import StandardScaler # data normalization"
   ]
  },
  {
   "cell_type": "code",
   "execution_count": 31,
   "metadata": {},
   "outputs": [
    {
     "data": {
      "image/png": "[encoded data removed]",
      "text/plain": [
       "<Figure size 432x288 with 1 Axes>"
      ]
     },
     "metadata": {},
     "output_type": "display_data"
    }
   ],
   "source": [
    "#now i am going to check the no of cluster needed our data by using elbow method\n",
    "Error =[]\n",
    "for i in range(1, 25):\n",
    "    kmeans = KMeans(n_clusters = i).fit(X)\n",
    "    kmeans.fit(X)\n",
    "    Error.append(kmeans.inertia_)\n",
    "import matplotlib.pyplot as plt\n",
    "plt.plot(Error,range(1, 25))\n",
    "plt.title('Elbow method')\n",
    "plt.xlabel('Error')\n",
    "plt.ylabel('No of clusters')\n",
    "plt.show()"
   ]
  },
  {
   "cell_type": "code",
   "execution_count": 32,
   "metadata": {},
   "outputs": [],
   "source": [
    "K_clusters = range(1,50)\n",
    "\n",
    "kmeans = [KMeans(n_clusters=i) for i in K_clusters]\n",
    "\n",
    "Y_axis = df[['LAT']]\n",
    "X_axis = df[['LON']]\n",
    "\n",
    "score = [kmeans[i].fit(Y_axis).score(Y_axis) for i in range(len(kmeans))]"
   ]
  },
  {
   "cell_type": "code",
   "execution_count": 33,
   "metadata": {},
   "outputs": [
    {
     "data": {
      "image/png": "[encoded data removed]",
      "text/plain": [
       "<Figure size 432x288 with 1 Axes>"
      ]
     },
     "metadata": {},
     "output_type": "display_data"
    }
   ],
   "source": [
    "plt.plot(K_clusters, score)\n",
    "plt.xlabel('Number of Clusters')\n",
    "\n",
    "plt.ylabel('Score')\n",
    "\n",
    "plt.title('Elbow Curve')\n",
    "\n",
    "plt.show()"
   ]
  },
  {
   "cell_type": "code",
   "execution_count": 34,
   "metadata": {},
   "outputs": [
    {
     "data": {
      "text/html": [
       "<div>\n",
       "<style scoped>\n",
       "    .dataframe tbody tr th:only-of-type {\n",
       "        vertical-align: middle;\n",
       "    }\n",
       "\n",
       "    .dataframe tbody tr th {\n",
       "        vertical-align: top;\n",
       "    }\n",
       "\n",
       "    .dataframe thead th {\n",
       "        text-align: right;\n",
       "    }\n",
       "</style>\n",
       "<table border=\"1\" class=\"dataframe\">\n",
       "  <thead>\n",
       "    <tr style=\"text-align: right;\">\n",
       "      <th></th>\n",
       "      <th>id</th>\n",
       "      <th>LAT</th>\n",
       "      <th>LON</th>\n",
       "      <th>cluster_label</th>\n",
       "    </tr>\n",
       "  </thead>\n",
       "  <tbody>\n",
       "    <tr>\n",
       "      <th>3032</th>\n",
       "      <td>1314494825962463232</td>\n",
       "      <td>28.656387</td>\n",
       "      <td>77.237037</td>\n",
       "      <td>8</td>\n",
       "    </tr>\n",
       "    <tr>\n",
       "      <th>3033</th>\n",
       "      <td>1314425757985198081</td>\n",
       "      <td>28.656070</td>\n",
       "      <td>77.240796</td>\n",
       "      <td>8</td>\n",
       "    </tr>\n",
       "    <tr>\n",
       "      <th>3047</th>\n",
       "      <td>1314417502600990722</td>\n",
       "      <td>28.656387</td>\n",
       "      <td>77.237037</td>\n",
       "      <td>8</td>\n",
       "    </tr>\n",
       "    <tr>\n",
       "      <th>3048</th>\n",
       "      <td>1314417307297472514</td>\n",
       "      <td>28.656387</td>\n",
       "      <td>77.237037</td>\n",
       "      <td>8</td>\n",
       "    </tr>\n",
       "    <tr>\n",
       "      <th>3049</th>\n",
       "      <td>1314417160547184640</td>\n",
       "      <td>28.656387</td>\n",
       "      <td>77.237037</td>\n",
       "      <td>8</td>\n",
       "    </tr>\n",
       "    <tr>\n",
       "      <th>3050</th>\n",
       "      <td>1314417059451801603</td>\n",
       "      <td>28.656387</td>\n",
       "      <td>77.237037</td>\n",
       "      <td>8</td>\n",
       "    </tr>\n",
       "    <tr>\n",
       "      <th>3051</th>\n",
       "      <td>1314416972147417088</td>\n",
       "      <td>28.656387</td>\n",
       "      <td>77.237037</td>\n",
       "      <td>8</td>\n",
       "    </tr>\n",
       "    <tr>\n",
       "      <th>3052</th>\n",
       "      <td>1314416796817141760</td>\n",
       "      <td>28.656387</td>\n",
       "      <td>77.237037</td>\n",
       "      <td>8</td>\n",
       "    </tr>\n",
       "    <tr>\n",
       "      <th>3053</th>\n",
       "      <td>1314416706710888453</td>\n",
       "      <td>28.656387</td>\n",
       "      <td>77.237037</td>\n",
       "      <td>8</td>\n",
       "    </tr>\n",
       "    <tr>\n",
       "      <th>3054</th>\n",
       "      <td>1314416634233270281</td>\n",
       "      <td>28.656387</td>\n",
       "      <td>77.237037</td>\n",
       "      <td>8</td>\n",
       "    </tr>\n",
       "  </tbody>\n",
       "</table>\n",
       "</div>"
      ],
      "text/plain": [
       "                       id        LAT        LON  cluster_label\n",
       "3032  1314494825962463232  28.656387  77.237037              8\n",
       "3033  1314425757985198081  28.656070  77.240796              8\n",
       "3047  1314417502600990722  28.656387  77.237037              8\n",
       "3048  1314417307297472514  28.656387  77.237037              8\n",
       "3049  1314417160547184640  28.656387  77.237037              8\n",
       "3050  1314417059451801603  28.656387  77.237037              8\n",
       "3051  1314416972147417088  28.656387  77.237037              8\n",
       "3052  1314416796817141760  28.656387  77.237037              8\n",
       "3053  1314416706710888453  28.656387  77.237037              8\n",
       "3054  1314416634233270281  28.656387  77.237037              8"
      ]
     },
     "execution_count": 34,
     "metadata": {},
     "output_type": "execute_result"
    }
   ],
   "source": [
    "kmeans = KMeans(n_clusters = 11, init ='k-means++')\n",
    "kmeans.fit(X[X.columns[1:3]]) # Compute k-means clustering.\n",
    "X['cluster_label'] = kmeans.fit_predict(X[X.columns[1:3]])\n",
    "centers = kmeans.cluster_centers_ # Coordinates of cluster centers.\n",
    "labels = kmeans.predict(X[X.columns[1:3]]) # Labels of each point\n",
    "X.head(10)"
   ]
  },
  {
   "cell_type": "code",
   "execution_count": 35,
   "metadata": {},
   "outputs": [
    {
     "name": "stdout",
     "output_type": "stream",
     "text": [
      "{0.7067424772237159}\n"
     ]
    }
   ],
   "source": [
    "from sklearn.metrics import silhouette_score\n",
    "label=kmeans.predict(X[X.columns[1:3]])\n",
    "print({silhouette_score(X[X.columns[1:3]], label)})\n"
   ]
  },
  {
   "cell_type": "code",
   "execution_count": 36,
   "metadata": {},
   "outputs": [
    {
     "data": {
      "text/plain": [
       "63442.83753315404"
      ]
     },
     "execution_count": 36,
     "metadata": {},
     "output_type": "execute_result"
    }
   ],
   "source": [
    "#Calinski Harabasz\n",
    "from sklearn.metrics import calinski_harabasz_score\n",
    "kmeans_calinski_harabasz_score = calinski_harabasz_score(X[X.columns[1:3]], label)\n",
    "kmeans_calinski_harabasz_score\n"
   ]
  },
  {
   "cell_type": "code",
   "execution_count": 37,
   "metadata": {},
   "outputs": [
    {
     "data": {
      "text/plain": [
       "0.5939452682978179"
      ]
     },
     "execution_count": 37,
     "metadata": {},
     "output_type": "execute_result"
    }
   ],
   "source": [
    "#davies_bouldin_score\n",
    "\n",
    "from sklearn.metrics import davies_bouldin_score\n",
    "\n",
    "kmeans_davies_bouldin_score = davies_bouldin_score(X[X.columns[1:3]], label)\n",
    "\n",
    "kmeans_davies_bouldin_score"
   ]
  },
  {
   "cell_type": "code",
   "execution_count": 38,
   "metadata": {},
   "outputs": [
    {
     "data": {
      "text/plain": [
       "<matplotlib.collections.PathCollection at 0x1b0cae2d408>"
      ]
     },
     "execution_count": 38,
     "metadata": {},
     "output_type": "execute_result"
    },
    {
     "data": {
      "image/png": "[encoded data removed]",
      "text/plain": [
       "<Figure size 432x288 with 2 Axes>"
      ]
     },
     "metadata": {},
     "output_type": "display_data"
    }
   ],
   "source": [
    "X.plot.scatter(x = 'LAT', y = 'LON', c=labels, s=50, cmap='viridis')\n",
    "plt.scatter(centers[:, 0], centers[:, 1], c='black', s=200, alpha=0.5)"
   ]
  },
  {
   "cell_type": "code",
   "execution_count": 39,
   "metadata": {},
   "outputs": [
    {
     "data": {
      "text/html": [
       "<div>\n",
       "<style scoped>\n",
       "    .dataframe tbody tr th:only-of-type {\n",
       "        vertical-align: middle;\n",
       "    }\n",
       "\n",
       "    .dataframe tbody tr th {\n",
       "        vertical-align: top;\n",
       "    }\n",
       "\n",
       "    .dataframe thead th {\n",
       "        text-align: right;\n",
       "    }\n",
       "</style>\n",
       "<table border=\"1\" class=\"dataframe\">\n",
       "  <thead>\n",
       "    <tr style=\"text-align: right;\">\n",
       "      <th></th>\n",
       "      <th>id</th>\n",
       "      <th>created_at</th>\n",
       "      <th>text</th>\n",
       "      <th>coordinates</th>\n",
       "      <th>user_described_location</th>\n",
       "      <th>a</th>\n",
       "      <th>b</th>\n",
       "      <th>c</th>\n",
       "      <th>LON</th>\n",
       "      <th>LAT</th>\n",
       "      <th>geometry</th>\n",
       "      <th>val</th>\n",
       "    </tr>\n",
       "  </thead>\n",
       "  <tbody>\n",
       "    <tr>\n",
       "      <th>3032</th>\n",
       "      <td>1314494825962463232</td>\n",
       "      <td>2020-10-09 09:16:03</td>\n",
       "      <td>Just posted a video @ Lal Qila (Red Fort) Chan...</td>\n",
       "      <td>77.23703704 28.65638698</td>\n",
       "      <td>NaN</td>\n",
       "      <td></td>\n",
       "      <td></td>\n",
       "      <td></td>\n",
       "      <td>77.237037</td>\n",
       "      <td>28.656387</td>\n",
       "      <td>POINT (77.23704 28.65639)</td>\n",
       "      <td>True</td>\n",
       "    </tr>\n",
       "    <tr>\n",
       "      <th>3033</th>\n",
       "      <td>1314425757985198081</td>\n",
       "      <td>2020-10-09 04:41:36</td>\n",
       "      <td>Just posted a video @ Red Fort https://t.co/KR...</td>\n",
       "      <td>77.24079609 28.65607021</td>\n",
       "      <td>NaN</td>\n",
       "      <td></td>\n",
       "      <td></td>\n",
       "      <td></td>\n",
       "      <td>77.240796</td>\n",
       "      <td>28.656070</td>\n",
       "      <td>POINT (77.24080 28.65607)</td>\n",
       "      <td>True</td>\n",
       "    </tr>\n",
       "    <tr>\n",
       "      <th>3047</th>\n",
       "      <td>1314417502600990722</td>\n",
       "      <td>2020-10-09 04:08:47</td>\n",
       "      <td>Just posted a photo @ Lal Qila (Red Fort) Chan...</td>\n",
       "      <td>77.23703704 28.65638698</td>\n",
       "      <td>NaN</td>\n",
       "      <td></td>\n",
       "      <td></td>\n",
       "      <td></td>\n",
       "      <td>77.237037</td>\n",
       "      <td>28.656387</td>\n",
       "      <td>POINT (77.23704 28.65639)</td>\n",
       "      <td>True</td>\n",
       "    </tr>\n",
       "    <tr>\n",
       "      <th>3048</th>\n",
       "      <td>1314417307297472514</td>\n",
       "      <td>2020-10-09 04:08:01</td>\n",
       "      <td>Just posted a photo @ Lal Qila (Red Fort) Chan...</td>\n",
       "      <td>77.23703704 28.65638698</td>\n",
       "      <td>NaN</td>\n",
       "      <td></td>\n",
       "      <td></td>\n",
       "      <td></td>\n",
       "      <td>77.237037</td>\n",
       "      <td>28.656387</td>\n",
       "      <td>POINT (77.23704 28.65639)</td>\n",
       "      <td>True</td>\n",
       "    </tr>\n",
       "    <tr>\n",
       "      <th>3049</th>\n",
       "      <td>1314417160547184640</td>\n",
       "      <td>2020-10-09 04:07:26</td>\n",
       "      <td>Just posted a photo @ Lal Qila (Red Fort) Chan...</td>\n",
       "      <td>77.23703704 28.65638698</td>\n",
       "      <td>NaN</td>\n",
       "      <td></td>\n",
       "      <td></td>\n",
       "      <td></td>\n",
       "      <td>77.237037</td>\n",
       "      <td>28.656387</td>\n",
       "      <td>POINT (77.23704 28.65639)</td>\n",
       "      <td>True</td>\n",
       "    </tr>\n",
       "  </tbody>\n",
       "</table>\n",
       "</div>"
      ],
      "text/plain": [
       "                       id           created_at  \\\n",
       "3032  1314494825962463232  2020-10-09 09:16:03   \n",
       "3033  1314425757985198081  2020-10-09 04:41:36   \n",
       "3047  1314417502600990722  2020-10-09 04:08:47   \n",
       "3048  1314417307297472514  2020-10-09 04:08:01   \n",
       "3049  1314417160547184640  2020-10-09 04:07:26   \n",
       "\n",
       "                                                   text  \\\n",
       "3032  Just posted a video @ Lal Qila (Red Fort) Chan...   \n",
       "3033  Just posted a video @ Red Fort https://t.co/KR...   \n",
       "3047  Just posted a photo @ Lal Qila (Red Fort) Chan...   \n",
       "3048  Just posted a photo @ Lal Qila (Red Fort) Chan...   \n",
       "3049  Just posted a photo @ Lal Qila (Red Fort) Chan...   \n",
       "\n",
       "                     coordinates  user_described_location a b c        LON  \\\n",
       "3032     77.23703704 28.65638698                      NaN        77.237037   \n",
       "3033     77.24079609 28.65607021                      NaN        77.240796   \n",
       "3047     77.23703704 28.65638698                      NaN        77.237037   \n",
       "3048     77.23703704 28.65638698                      NaN        77.237037   \n",
       "3049     77.23703704 28.65638698                      NaN        77.237037   \n",
       "\n",
       "            LAT                   geometry   val  \n",
       "3032  28.656387  POINT (77.23704 28.65639)  True  \n",
       "3033  28.656070  POINT (77.24080 28.65607)  True  \n",
       "3047  28.656387  POINT (77.23704 28.65639)  True  \n",
       "3048  28.656387  POINT (77.23704 28.65639)  True  \n",
       "3049  28.656387  POINT (77.23704 28.65639)  True  "
      ]
     },
     "execution_count": 39,
     "metadata": {},
     "output_type": "execute_result"
    }
   ],
   "source": [
    "df.head(5)"
   ]
  },
  {
   "cell_type": "code",
   "execution_count": 40,
   "metadata": {},
   "outputs": [
    {
     "name": "stdout",
     "output_type": "stream",
     "text": [
      "[[28.61325933 77.20892407]\n",
      " [28.54016502 77.2571085 ]\n",
      " [28.55793549 77.20151544]\n",
      " [28.63223769 77.21962085]\n",
      " [28.71742555 77.22360677]\n",
      " [28.57276539 77.23679582]\n",
      " [28.94531681 77.2228888 ]\n",
      " [28.48687072 77.18116736]\n",
      " [28.66360925 77.22072358]\n",
      " [28.60264267 77.23193291]\n",
      " [28.52603867 77.21061344]]\n"
     ]
    }
   ],
   "source": [
    "centers = kmeans.cluster_centers_\n",
    "print(centers)"
   ]
  },
  {
   "cell_type": "code",
   "execution_count": null,
   "metadata": {},
   "outputs": [],
   "source": []
  },
  {
   "cell_type": "code",
   "execution_count": 41,
   "metadata": {},
   "outputs": [
    {
     "data": {
      "text/html": [
       "<div>\n",
       "<style scoped>\n",
       "    .dataframe tbody tr th:only-of-type {\n",
       "        vertical-align: middle;\n",
       "    }\n",
       "\n",
       "    .dataframe tbody tr th {\n",
       "        vertical-align: top;\n",
       "    }\n",
       "\n",
       "    .dataframe thead th {\n",
       "        text-align: right;\n",
       "    }\n",
       "</style>\n",
       "<table border=\"1\" class=\"dataframe\">\n",
       "  <thead>\n",
       "    <tr style=\"text-align: right;\">\n",
       "      <th></th>\n",
       "      <th>id</th>\n",
       "      <th>created_at</th>\n",
       "      <th>text</th>\n",
       "      <th>coordinates</th>\n",
       "      <th>user_described_location</th>\n",
       "      <th>a</th>\n",
       "      <th>b</th>\n",
       "      <th>c</th>\n",
       "      <th>LON</th>\n",
       "      <th>LAT</th>\n",
       "      <th>geometry</th>\n",
       "      <th>val</th>\n",
       "    </tr>\n",
       "  </thead>\n",
       "  <tbody>\n",
       "    <tr>\n",
       "      <th>3032</th>\n",
       "      <td>1314494825962463232</td>\n",
       "      <td>2020-10-09 09:16:03</td>\n",
       "      <td>Just posted a video @ Lal Qila (Red Fort) Chan...</td>\n",
       "      <td>77.23703704 28.65638698</td>\n",
       "      <td>NaN</td>\n",
       "      <td></td>\n",
       "      <td></td>\n",
       "      <td></td>\n",
       "      <td>77.237037</td>\n",
       "      <td>28.656387</td>\n",
       "      <td>POINT (77.23704 28.65639)</td>\n",
       "      <td>True</td>\n",
       "    </tr>\n",
       "    <tr>\n",
       "      <th>3033</th>\n",
       "      <td>1314425757985198081</td>\n",
       "      <td>2020-10-09 04:41:36</td>\n",
       "      <td>Just posted a video @ Red Fort https://t.co/KR...</td>\n",
       "      <td>77.24079609 28.65607021</td>\n",
       "      <td>NaN</td>\n",
       "      <td></td>\n",
       "      <td></td>\n",
       "      <td></td>\n",
       "      <td>77.240796</td>\n",
       "      <td>28.656070</td>\n",
       "      <td>POINT (77.24080 28.65607)</td>\n",
       "      <td>True</td>\n",
       "    </tr>\n",
       "    <tr>\n",
       "      <th>3047</th>\n",
       "      <td>1314417502600990722</td>\n",
       "      <td>2020-10-09 04:08:47</td>\n",
       "      <td>Just posted a photo @ Lal Qila (Red Fort) Chan...</td>\n",
       "      <td>77.23703704 28.65638698</td>\n",
       "      <td>NaN</td>\n",
       "      <td></td>\n",
       "      <td></td>\n",
       "      <td></td>\n",
       "      <td>77.237037</td>\n",
       "      <td>28.656387</td>\n",
       "      <td>POINT (77.23704 28.65639)</td>\n",
       "      <td>True</td>\n",
       "    </tr>\n",
       "    <tr>\n",
       "      <th>3048</th>\n",
       "      <td>1314417307297472514</td>\n",
       "      <td>2020-10-09 04:08:01</td>\n",
       "      <td>Just posted a photo @ Lal Qila (Red Fort) Chan...</td>\n",
       "      <td>77.23703704 28.65638698</td>\n",
       "      <td>NaN</td>\n",
       "      <td></td>\n",
       "      <td></td>\n",
       "      <td></td>\n",
       "      <td>77.237037</td>\n",
       "      <td>28.656387</td>\n",
       "      <td>POINT (77.23704 28.65639)</td>\n",
       "      <td>True</td>\n",
       "    </tr>\n",
       "    <tr>\n",
       "      <th>3049</th>\n",
       "      <td>1314417160547184640</td>\n",
       "      <td>2020-10-09 04:07:26</td>\n",
       "      <td>Just posted a photo @ Lal Qila (Red Fort) Chan...</td>\n",
       "      <td>77.23703704 28.65638698</td>\n",
       "      <td>NaN</td>\n",
       "      <td></td>\n",
       "      <td></td>\n",
       "      <td></td>\n",
       "      <td>77.237037</td>\n",
       "      <td>28.656387</td>\n",
       "      <td>POINT (77.23704 28.65639)</td>\n",
       "      <td>True</td>\n",
       "    </tr>\n",
       "    <tr>\n",
       "      <th>...</th>\n",
       "      <td>...</td>\n",
       "      <td>...</td>\n",
       "      <td>...</td>\n",
       "      <td>...</td>\n",
       "      <td>...</td>\n",
       "      <td>...</td>\n",
       "      <td>...</td>\n",
       "      <td>...</td>\n",
       "      <td>...</td>\n",
       "      <td>...</td>\n",
       "      <td>...</td>\n",
       "      <td>...</td>\n",
       "    </tr>\n",
       "    <tr>\n",
       "      <th>704478</th>\n",
       "      <td>1207489681161674752</td>\n",
       "      <td>2019-12-19 02:35:48</td>\n",
       "      <td>#liveselfie #morning\\r\\n#toocold @ RK Puram, S...</td>\n",
       "      <td>77.18809 28.56158</td>\n",
       "      <td>NaN</td>\n",
       "      <td></td>\n",
       "      <td></td>\n",
       "      <td></td>\n",
       "      <td>77.188090</td>\n",
       "      <td>28.561580</td>\n",
       "      <td>POINT (77.18809 28.56158)</td>\n",
       "      <td>True</td>\n",
       "    </tr>\n",
       "    <tr>\n",
       "      <th>704496</th>\n",
       "      <td>1205815385590767617</td>\n",
       "      <td>2019-12-14 11:42:45</td>\n",
       "      <td>#shanimandir @ Sports Club Khaspur https://t.c...</td>\n",
       "      <td>77.1840257 28.5649359</td>\n",
       "      <td>NaN</td>\n",
       "      <td></td>\n",
       "      <td></td>\n",
       "      <td></td>\n",
       "      <td>77.184026</td>\n",
       "      <td>28.564936</td>\n",
       "      <td>POINT (77.18403 28.56494)</td>\n",
       "      <td>True</td>\n",
       "    </tr>\n",
       "    <tr>\n",
       "      <th>704612</th>\n",
       "      <td>1193781934637252608</td>\n",
       "      <td>2019-11-11 06:46:07</td>\n",
       "      <td>#liveselfie @ Cro Itbp https://t.co/9RODp4IMHt</td>\n",
       "      <td>77.18439333 28.56540475</td>\n",
       "      <td>NaN</td>\n",
       "      <td></td>\n",
       "      <td></td>\n",
       "      <td></td>\n",
       "      <td>77.184393</td>\n",
       "      <td>28.565405</td>\n",
       "      <td>POINT (77.18439 28.56540)</td>\n",
       "      <td>True</td>\n",
       "    </tr>\n",
       "    <tr>\n",
       "      <th>704670</th>\n",
       "      <td>1188655260383862785</td>\n",
       "      <td>2019-10-28 03:14:32</td>\n",
       "      <td>#liveselfie @ Cro Itbp https://t.co/yKdeyHtsb6</td>\n",
       "      <td>77.18439333 28.56540475</td>\n",
       "      <td>NaN</td>\n",
       "      <td></td>\n",
       "      <td></td>\n",
       "      <td></td>\n",
       "      <td>77.184393</td>\n",
       "      <td>28.565405</td>\n",
       "      <td>POINT (77.18439 28.56540)</td>\n",
       "      <td>True</td>\n",
       "    </tr>\n",
       "    <tr>\n",
       "      <th>704817</th>\n",
       "      <td>1172328698214699009</td>\n",
       "      <td>2019-09-13 01:58:37</td>\n",
       "      <td>#1yearanniversary \\r\\nFamily Selfie after Rank...</td>\n",
       "      <td>77.18439333 28.56540475</td>\n",
       "      <td>NaN</td>\n",
       "      <td></td>\n",
       "      <td></td>\n",
       "      <td></td>\n",
       "      <td>77.184393</td>\n",
       "      <td>28.565405</td>\n",
       "      <td>POINT (77.18439 28.56540)</td>\n",
       "      <td>True</td>\n",
       "    </tr>\n",
       "  </tbody>\n",
       "</table>\n",
       "<p>29495 rows × 12 columns</p>\n",
       "</div>"
      ],
      "text/plain": [
       "                         id           created_at  \\\n",
       "3032    1314494825962463232  2020-10-09 09:16:03   \n",
       "3033    1314425757985198081  2020-10-09 04:41:36   \n",
       "3047    1314417502600990722  2020-10-09 04:08:47   \n",
       "3048    1314417307297472514  2020-10-09 04:08:01   \n",
       "3049    1314417160547184640  2020-10-09 04:07:26   \n",
       "...                     ...                  ...   \n",
       "704478  1207489681161674752  2019-12-19 02:35:48   \n",
       "704496  1205815385590767617  2019-12-14 11:42:45   \n",
       "704612  1193781934637252608  2019-11-11 06:46:07   \n",
       "704670  1188655260383862785  2019-10-28 03:14:32   \n",
       "704817  1172328698214699009  2019-09-13 01:58:37   \n",
       "\n",
       "                                                     text  \\\n",
       "3032    Just posted a video @ Lal Qila (Red Fort) Chan...   \n",
       "3033    Just posted a video @ Red Fort https://t.co/KR...   \n",
       "3047    Just posted a photo @ Lal Qila (Red Fort) Chan...   \n",
       "3048    Just posted a photo @ Lal Qila (Red Fort) Chan...   \n",
       "3049    Just posted a photo @ Lal Qila (Red Fort) Chan...   \n",
       "...                                                   ...   \n",
       "704478  #liveselfie #morning\\r\\n#toocold @ RK Puram, S...   \n",
       "704496  #shanimandir @ Sports Club Khaspur https://t.c...   \n",
       "704612     #liveselfie @ Cro Itbp https://t.co/9RODp4IMHt   \n",
       "704670     #liveselfie @ Cro Itbp https://t.co/yKdeyHtsb6   \n",
       "704817  #1yearanniversary \\r\\nFamily Selfie after Rank...   \n",
       "\n",
       "                       coordinates  user_described_location a  b  c   \\\n",
       "3032       77.23703704 28.65638698                      NaN            \n",
       "3033       77.24079609 28.65607021                      NaN            \n",
       "3047       77.23703704 28.65638698                      NaN            \n",
       "3048       77.23703704 28.65638698                      NaN            \n",
       "3049       77.23703704 28.65638698                      NaN            \n",
       "...                            ...                      ... .. .. ..   \n",
       "704478           77.18809 28.56158                      NaN            \n",
       "704496       77.1840257 28.5649359                      NaN            \n",
       "704612     77.18439333 28.56540475                      NaN            \n",
       "704670     77.18439333 28.56540475                      NaN            \n",
       "704817     77.18439333 28.56540475                      NaN            \n",
       "\n",
       "              LON        LAT                   geometry   val  \n",
       "3032    77.237037  28.656387  POINT (77.23704 28.65639)  True  \n",
       "3033    77.240796  28.656070  POINT (77.24080 28.65607)  True  \n",
       "3047    77.237037  28.656387  POINT (77.23704 28.65639)  True  \n",
       "3048    77.237037  28.656387  POINT (77.23704 28.65639)  True  \n",
       "3049    77.237037  28.656387  POINT (77.23704 28.65639)  True  \n",
       "...           ...        ...                        ...   ...  \n",
       "704478  77.188090  28.561580  POINT (77.18809 28.56158)  True  \n",
       "704496  77.184026  28.564936  POINT (77.18403 28.56494)  True  \n",
       "704612  77.184393  28.565405  POINT (77.18439 28.56540)  True  \n",
       "704670  77.184393  28.565405  POINT (77.18439 28.56540)  True  \n",
       "704817  77.184393  28.565405  POINT (77.18439 28.56540)  True  \n",
       "\n",
       "[29495 rows x 12 columns]"
      ]
     },
     "execution_count": 41,
     "metadata": {},
     "output_type": "execute_result"
    }
   ],
   "source": [
    "import pandas as pd, numpy as np, matplotlib.pyplot as plt\n",
    "from sklearn.cluster import DBSCAN\n",
    "from geopy.distance import great_circle\n",
    "from shapely.geometry import MultiPoint\n",
    "coords = df[['LAT', 'LON']].values\n",
    "df"
   ]
  },
  {
   "cell_type": "code",
   "execution_count": 42,
   "metadata": {},
   "outputs": [
    {
     "name": "stdout",
     "output_type": "stream",
     "text": [
      "Number of clusters: 6\n"
     ]
    }
   ],
   "source": [
    "kms_per_radian = 6371.0088\n",
    "epsilon = 1.5 / kms_per_radian\n",
    "db = DBSCAN(eps=epsilon, min_samples=1, algorithm='ball_tree', metric='haversine').fit(np.radians(coords))\n",
    "cluster_labels = db.labels_\n",
    "num_clusters = len(set(cluster_labels))\n",
    "clusters = pd.Series([coords[cluster_labels == n] for n in range(num_clusters)])\n",
    "print('Number of clusters: {}'.format(num_clusters))"
   ]
  },
  {
   "cell_type": "code",
   "execution_count": 43,
   "metadata": {},
   "outputs": [],
   "source": [
    "def get_centermost_point(cluster):\n",
    "    centroid = (MultiPoint(cluster).centroid.x, MultiPoint(cluster).centroid.y)\n",
    "    centermost_point = min(cluster, key=lambda point: great_circle(point, centroid).m)\n",
    "    return tuple(centermost_point)\n",
    "centermost_points = clusters.map(get_centermost_point)\n"
   ]
  },
  {
   "cell_type": "code",
   "execution_count": null,
   "metadata": {},
   "outputs": [],
   "source": []
  },
  {
   "cell_type": "code",
   "execution_count": null,
   "metadata": {},
   "outputs": [],
   "source": []
  },
  {
   "cell_type": "code",
   "execution_count": 44,
   "metadata": {},
   "outputs": [
    {
     "data": {
      "text/html": [
       "<div>\n",
       "<style scoped>\n",
       "    .dataframe tbody tr th:only-of-type {\n",
       "        vertical-align: middle;\n",
       "    }\n",
       "\n",
       "    .dataframe tbody tr th {\n",
       "        vertical-align: top;\n",
       "    }\n",
       "\n",
       "    .dataframe thead th {\n",
       "        text-align: right;\n",
       "    }\n",
       "</style>\n",
       "<table border=\"1\" class=\"dataframe\">\n",
       "  <thead>\n",
       "    <tr style=\"text-align: right;\">\n",
       "      <th></th>\n",
       "      <th>LON</th>\n",
       "      <th>LAT</th>\n",
       "    </tr>\n",
       "  </thead>\n",
       "  <tbody>\n",
       "    <tr>\n",
       "      <th>0</th>\n",
       "      <td>77.217015</td>\n",
       "      <td>28.608000</td>\n",
       "    </tr>\n",
       "    <tr>\n",
       "      <th>1</th>\n",
       "      <td>77.287250</td>\n",
       "      <td>28.478730</td>\n",
       "    </tr>\n",
       "    <tr>\n",
       "      <th>2</th>\n",
       "      <td>77.220730</td>\n",
       "      <td>28.945120</td>\n",
       "    </tr>\n",
       "    <tr>\n",
       "      <th>3</th>\n",
       "      <td>77.224390</td>\n",
       "      <td>28.732810</td>\n",
       "    </tr>\n",
       "    <tr>\n",
       "      <th>4</th>\n",
       "      <td>77.205014</td>\n",
       "      <td>28.473346</td>\n",
       "    </tr>\n",
       "    <tr>\n",
       "      <th>5</th>\n",
       "      <td>77.274967</td>\n",
       "      <td>28.951562</td>\n",
       "    </tr>\n",
       "  </tbody>\n",
       "</table>\n",
       "</div>"
      ],
      "text/plain": [
       "         LON        LAT\n",
       "0  77.217015  28.608000\n",
       "1  77.287250  28.478730\n",
       "2  77.220730  28.945120\n",
       "3  77.224390  28.732810\n",
       "4  77.205014  28.473346\n",
       "5  77.274967  28.951562"
      ]
     },
     "execution_count": 44,
     "metadata": {},
     "output_type": "execute_result"
    }
   ],
   "source": [
    "lats, lons = zip(*centermost_points)\n",
    "rep_points = pd.DataFrame({'LON':lons, 'LAT':lats})\n",
    "rep_points"
   ]
  },
  {
   "cell_type": "code",
   "execution_count": 45,
   "metadata": {},
   "outputs": [],
   "source": [
    "rs = rep_points.apply(lambda row: df[(df['LAT']==row['LAT']) & (df['LON']==row['LON'])].iloc[0], axis=1)"
   ]
  },
  {
   "cell_type": "code",
   "execution_count": null,
   "metadata": {},
   "outputs": [],
   "source": []
  },
  {
   "cell_type": "code",
   "execution_count": 46,
   "metadata": {},
   "outputs": [
    {
     "data": {
      "image/png": "[encoded data removed]",
      "text/plain": [
       "<Figure size 720x432 with 1 Axes>"
      ]
     },
     "metadata": {},
     "output_type": "display_data"
    }
   ],
   "source": [
    "fig, ax = plt.subplots(figsize=[10, 6])\n",
    "rs_scatter = ax.scatter(rs['LON'], rs['LAT'], c='#99cc99', edgecolor='None', alpha=0.7, s=120)\n",
    "df_scatter = ax.scatter(df['LON'], df['LAT'], c='k', alpha=0.9, s=3)\n",
    "ax.set_title('Full data set vs DBSCAN reduced set')\n",
    "ax.set_xlabel('Longitude')\n",
    "ax.set_ylabel('Latitude')\n",
    "ax.legend([df_scatter, rs_scatter], ['Full set', 'Reduced set'], loc='upper right')\n",
    "plt.show()"
   ]
  },
  {
   "cell_type": "code",
   "execution_count": 47,
   "metadata": {},
   "outputs": [
    {
     "data": {
      "text/plain": [
       "0.45443408701481436"
      ]
     },
     "execution_count": 47,
     "metadata": {},
     "output_type": "execute_result"
    }
   ],
   "source": [
    "dbscan_silhouette = silhouette_score(X[X.columns[1:3]], db.labels_)\n",
    "dbscan_silhouette"
   ]
  },
  {
   "cell_type": "code",
   "execution_count": 48,
   "metadata": {},
   "outputs": [
    {
     "data": {
      "text/plain": [
       "699.2347857613584"
      ]
     },
     "execution_count": 48,
     "metadata": {},
     "output_type": "execute_result"
    }
   ],
   "source": [
    "dbscan_calinski_harabasz_score = calinski_harabasz_score(X[X.columns[1:3]], db.labels_)\n",
    "dbscan_calinski_harabasz_score\n"
   ]
  },
  {
   "cell_type": "code",
   "execution_count": 49,
   "metadata": {},
   "outputs": [
    {
     "data": {
      "text/plain": [
       "0.2462010440773832"
      ]
     },
     "execution_count": 49,
     "metadata": {},
     "output_type": "execute_result"
    }
   ],
   "source": [
    "dbscan_davies_bouldin_score = davies_bouldin_score(X[X.columns[1:3]], db.labels_)\n",
    "\n",
    "dbscan_davies_bouldin_score"
   ]
  },
  {
   "cell_type": "code",
   "execution_count": 50,
   "metadata": {},
   "outputs": [],
   "source": [
    "import numpy as np\n",
    "import pandas as pd\n",
    "from sklearn.cluster import MeanShift\n",
    "\n",
    "from matplotlib import pyplot as plt\n",
    "from mpl_toolkits.mplot3d import Axes3D\n",
    "\n",
    "from sklearn.preprocessing import StandardScaler # data normalization\n",
    "from sklearn.metrics import davies_bouldin_score, calinski_harabasz_score, silhouette_score"
   ]
  },
  {
   "cell_type": "code",
   "execution_count": 51,
   "metadata": {},
   "outputs": [
    {
     "data": {
      "text/plain": [
       "MeanShift()"
      ]
     },
     "execution_count": 51,
     "metadata": {},
     "output_type": "execute_result"
    }
   ],
   "source": [
    "ms = MeanShift()\n",
    "ms.fit(X[X.columns[1:3]])"
   ]
  },
  {
   "cell_type": "code",
   "execution_count": 52,
   "metadata": {},
   "outputs": [
    {
     "data": {
      "text/plain": [
       "array([[28.62670634, 77.21780121],\n",
       "       [28.56453641, 77.22072151],\n",
       "       [28.53662674, 77.20900407],\n",
       "       [28.59145472, 77.23144157],\n",
       "       [28.71377913, 77.22334942],\n",
       "       [28.45607614, 77.18491362],\n",
       "       [28.47462477, 77.28708814],\n",
       "       [28.94481722, 77.21872258],\n",
       "       [28.9515616 , 77.2749666 ]])"
      ]
     },
     "execution_count": 52,
     "metadata": {},
     "output_type": "execute_result"
    }
   ],
   "source": [
    "ms.cluster_centers_\n"
   ]
  },
  {
   "cell_type": "code",
   "execution_count": 53,
   "metadata": {},
   "outputs": [
    {
     "data": {
      "text/plain": [
       "0.49680494481655024"
      ]
     },
     "execution_count": 53,
     "metadata": {},
     "output_type": "execute_result"
    }
   ],
   "source": [
    "meanshift_silhouette = silhouette_score(X[X.columns[1:3]], ms.labels_)\n",
    "meanshift_silhouette"
   ]
  },
  {
   "cell_type": "code",
   "execution_count": 54,
   "metadata": {},
   "outputs": [
    {
     "data": {
      "text/plain": [
       "19879.727636162843"
      ]
     },
     "execution_count": 54,
     "metadata": {},
     "output_type": "execute_result"
    }
   ],
   "source": [
    "ms_calinski_harabasz_score = calinski_harabasz_score(X[X.columns[1:3]], ms.labels_)\n",
    "ms_calinski_harabasz_score"
   ]
  },
  {
   "cell_type": "code",
   "execution_count": 55,
   "metadata": {},
   "outputs": [
    {
     "data": {
      "text/plain": [
       "0.6544927241980759"
      ]
     },
     "execution_count": 55,
     "metadata": {},
     "output_type": "execute_result"
    }
   ],
   "source": [
    "ms_davies_bouldin_score = davies_bouldin_score(X[X.columns[1:3]], ms.labels_)\n",
    "\n",
    "ms_davies_bouldin_score"
   ]
  },
  {
   "cell_type": "code",
   "execution_count": 56,
   "metadata": {},
   "outputs": [
    {
     "ename": "NameError",
     "evalue": "name 'y' is not defined",
     "output_type": "error",
     "traceback": [
      "\u001b[1;31m---------------------------------------------------------------------------\u001b[0m",
      "\u001b[1;31mNameError\u001b[0m                                 Traceback (most recent call last)",
      "\u001b[1;32m<ipython-input-56-f6079c10a768>\u001b[0m in \u001b[0;36m<module>\u001b[1;34m\u001b[0m\n\u001b[0;32m      2\u001b[0m \u001b[0max\u001b[0m \u001b[1;33m=\u001b[0m \u001b[0mfig\u001b[0m\u001b[1;33m.\u001b[0m\u001b[0madd_subplot\u001b[0m\u001b[1;33m(\u001b[0m\u001b[1;36m111\u001b[0m\u001b[1;33m)\u001b[0m\u001b[1;33m\u001b[0m\u001b[1;33m\u001b[0m\u001b[0m\n\u001b[0;32m      3\u001b[0m \u001b[0max\u001b[0m\u001b[1;33m.\u001b[0m\u001b[0mscatter\u001b[0m\u001b[1;33m(\u001b[0m\u001b[0mX\u001b[0m\u001b[1;33m[\u001b[0m\u001b[0mX\u001b[0m\u001b[1;33m.\u001b[0m\u001b[0mcolumns\u001b[0m\u001b[1;33m[\u001b[0m\u001b[1;36m1\u001b[0m\u001b[1;33m:\u001b[0m\u001b[1;36m2\u001b[0m\u001b[1;33m]\u001b[0m\u001b[1;33m]\u001b[0m\u001b[1;33m,\u001b[0m \u001b[0mX\u001b[0m\u001b[1;33m[\u001b[0m\u001b[0mX\u001b[0m\u001b[1;33m.\u001b[0m\u001b[0mcolumns\u001b[0m\u001b[1;33m[\u001b[0m\u001b[1;36m2\u001b[0m\u001b[1;33m:\u001b[0m\u001b[1;36m3\u001b[0m\u001b[1;33m]\u001b[0m\u001b[1;33m]\u001b[0m\u001b[1;33m,\u001b[0m \u001b[0mc\u001b[0m\u001b[1;33m=\u001b[0m\u001b[1;34m'k'\u001b[0m\u001b[1;33m,\u001b[0m \u001b[0malpha\u001b[0m\u001b[1;33m=\u001b[0m\u001b[1;36m0.9\u001b[0m\u001b[1;33m,\u001b[0m \u001b[0ms\u001b[0m\u001b[1;33m=\u001b[0m\u001b[1;36m3\u001b[0m\u001b[1;33m)\u001b[0m\u001b[1;33m\u001b[0m\u001b[1;33m\u001b[0m\u001b[0m\n\u001b[1;32m----> 4\u001b[1;33m \u001b[0max\u001b[0m\u001b[1;33m.\u001b[0m\u001b[0mscatter\u001b[0m\u001b[1;33m(\u001b[0m\u001b[0my\u001b[0m\u001b[1;33m[\u001b[0m\u001b[1;33m:\u001b[0m\u001b[1;33m,\u001b[0m\u001b[1;36m0\u001b[0m\u001b[1;33m]\u001b[0m\u001b[1;33m,\u001b[0m \u001b[0my\u001b[0m\u001b[1;33m[\u001b[0m\u001b[1;33m:\u001b[0m\u001b[1;33m,\u001b[0m\u001b[1;36m1\u001b[0m\u001b[1;33m]\u001b[0m\u001b[1;33m,\u001b[0m  \u001b[0mc\u001b[0m\u001b[1;33m=\u001b[0m\u001b[1;34m'#99cc99'\u001b[0m\u001b[1;33m,\u001b[0m \u001b[0medgecolor\u001b[0m\u001b[1;33m=\u001b[0m\u001b[1;34m'r'\u001b[0m\u001b[1;33m,\u001b[0m \u001b[0malpha\u001b[0m\u001b[1;33m=\u001b[0m\u001b[1;36m0.7\u001b[0m\u001b[1;33m,\u001b[0m \u001b[0ms\u001b[0m\u001b[1;33m=\u001b[0m\u001b[1;36m120\u001b[0m\u001b[1;33m)\u001b[0m\u001b[1;33m\u001b[0m\u001b[1;33m\u001b[0m\u001b[0m\n\u001b[0m\u001b[0;32m      5\u001b[0m \u001b[0mplt\u001b[0m\u001b[1;33m.\u001b[0m\u001b[0mshow\u001b[0m\u001b[1;33m(\u001b[0m\u001b[1;33m)\u001b[0m\u001b[1;33m\u001b[0m\u001b[1;33m\u001b[0m\u001b[0m\n",
      "\u001b[1;31mNameError\u001b[0m: name 'y' is not defined"
     ]
    },
    {
     "data": {
      "image/png": "[encoded data removed]",
      "text/plain": [
       "<Figure size 432x288 with 1 Axes>"
      ]
     },
     "metadata": {},
     "output_type": "display_data"
    }
   ],
   "source": [
    "fig = plt.figure()\n",
    "ax = fig.add_subplot(111)\n",
    "ax.scatter(X[X.columns[1:2]], X[X.columns[2:3]], c='k', alpha=0.9, s=3)\n",
    "ax.scatter(y[:,0], y[:,1],  c='#99cc99', edgecolor='r', alpha=0.7, s=120)\n",
    "plt.show()\n"
   ]
  },
  {
   "cell_type": "code",
   "execution_count": null,
   "metadata": {},
   "outputs": [],
   "source": []
  },
  {
   "cell_type": "code",
   "execution_count": null,
   "metadata": {},
   "outputs": [],
   "source": []
  }
 ],
 "metadata": {
  "kernelspec": {
   "display_name": "Python 3",
   "language": "python",
   "name": "python3"
  },
  "language_info": {
   "codemirror_mode": {
    "name": "ipython",
    "version": 3
   },
   "file_extension": ".py",
   "mimetype": "text/x-python",
   "name": "python",
   "nbconvert_exporter": "python",
   "pygments_lexer": "ipython3",
   "version": "3.7.4"
  }
 },
 "nbformat": 4,
 "nbformat_minor": 2
}
